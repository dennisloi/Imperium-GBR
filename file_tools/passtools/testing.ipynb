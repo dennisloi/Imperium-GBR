{
 "cells": [
  {
   "cell_type": "code",
   "execution_count": null,
   "id": "f8330988",
   "metadata": {},
   "outputs": [],
   "source": [
    "inputPath = \"/test.PASS\"\n",
    "outputPath = inputPath.replace(\".PASS\", \".png\")\n",
    "outputPath2 = inputPath.replace(\".PASS\", \"2.PASS\")"
   ]
  },
  {
   "cell_type": "code",
   "execution_count": 4,
   "id": "6efba4b4",
   "metadata": {},
   "outputs": [
    {
     "data": {
      "image/png": "[encoded data removed]",
      "text/plain": [
       "<Figure size 1000x1000 with 1 Axes>"
      ]
     },
     "metadata": {},
     "output_type": "display_data"
    }
   ],
   "source": [
    "import numpy as np\n",
    "import matplotlib.pyplot as plt\n",
    "\n",
    "# Define 20-byte header from hex\n",
    "header_hex = [\n",
    "    0x44, 0x49, 0x52, 0x47, # 'DIRG'\n",
    "    0x10, 0x00, 0x00, 0x00, # 16 bytes of unknown data\n",
    "    0x01, 0x00, 0x00, 0x00,\n",
    "    0x00, 0x08, 0x00, 0x00,\n",
    "    0x00, 0x08, 0x00, 0x00\n",
    "]\n",
    "\n",
    "hexFile = []\n",
    "\n",
    "with open(inputPath, 'rb') as f:\n",
    "    byte = f.read(1)\n",
    "    while byte:\n",
    "        # Convert byte to a 2-character hex string\n",
    "        hex_value = format(ord(byte), '02x')\n",
    "        # Extend the list with the hex value\n",
    "        hexFile.append(hex_value)\n",
    "        byte = f.read(1)\n",
    "\n",
    "# Check the magic\n",
    "if hexFile[0:4] != [format(x, '02x') for x in header_hex[0:4]]:\n",
    "    print(\"Invalid file format\")\n",
    "    exit(1)\n",
    "\n",
    "# Check the header\n",
    "for i in range(4, 20):\n",
    "    if hexFile[i] != format(header_hex[i], '02x'):\n",
    "        print(f\"Different Header! {i}: expected {format(header_hex[i], '02x')}, got {hexFile[i]}\")\n",
    "        exit(1)\n",
    "\n",
    "# Remove the first 20 bytes (header)\n",
    "# magic + 16 bytes (unknown)\n",
    "hexFile = hexFile[4+16:]\n",
    "\n",
    "bit_array = []\n",
    "\n",
    "rows = len(hexFile) // 16\n",
    "\n",
    "for i in range(rows - 1, -1, -1):   \n",
    "    row = []\n",
    "    for j in range(15): # 15 as the last byte is end of line marker of some sort\n",
    "        # Read one byte\n",
    "        byte = hexFile[i  * 16 + j]\n",
    "        # Convert it into bits\n",
    "        bits = format(int(byte, 16), '08b')\n",
    "        # Reverse the bits\n",
    "        bits = bits[::-1]\n",
    "        # Convert the bits to integers\n",
    "        bits = [int(bit) for bit in bits]\n",
    "        # Append the bits to the row\n",
    "        row.extend(bits)\n",
    "    bit_array.append(row)\n",
    "\n",
    "# Convert the list to a NumPy array\n",
    "bit_array = np.array(bit_array)\n",
    "# Create a figure and axis\n",
    "fig, ax = plt.subplots(figsize=(10, 10))\n",
    "# Display the array as an image\n",
    "ax.imshow(bit_array, cmap='gray', interpolation='nearest')\n",
    "# Hide the axes\n",
    "ax.axis('off')\n",
    "# Show the plot\n",
    "plt.show()\n",
    "\n",
    "# Save the image\n",
    "plt.imsave(outputPath, bit_array, cmap='gray', format='png')"
   ]
  },
  {
   "cell_type": "code",
   "execution_count": 5,
   "id": "44dce317",
   "metadata": {},
   "outputs": [],
   "source": [
    "import numpy as np\n",
    "from PIL import Image\n",
    "\n",
    "# Load image and convert to grayscale\n",
    "img = Image.open(outputPath).convert('L')\n",
    "array = np.array(img)\n",
    "\n",
    "# Convert to binary (0 or 1)\n",
    "binary_array = (array > 127).astype(np.uint8)\n",
    "\n",
    "# Flip vertically (bottom to top)\n",
    "binary_array = np.flipud(binary_array)\n",
    "\n",
    "header_bytes = bytes(header_hex)\n",
    "\n",
    "# Open output file\n",
    "with open(outputPath2, 'wb') as f:\n",
    "    # Write the 20-byte header\n",
    "    f.write(header_bytes)\n",
    "\n",
    "    for row in binary_array:\n",
    "        for i in range(0, 120, 8):  # 15 bytes = 120 bits\n",
    "            bits = row[i:i+8]\n",
    "            if len(bits) < 8:\n",
    "                bits = np.pad(bits, (0, 8 - len(bits)), constant_values=0)\n",
    "            bits_reversed = bits[::-1]\n",
    "            byte = int(''.join(str(b) for b in bits_reversed), 2)\n",
    "            f.write(byte.to_bytes(1, 'big'))\n",
    "        # End-of-line marker (dummy byte)\n",
    "        f.write(b'\\x00')\n"
   ]
  }
 ],
 "metadata": {
  "kernelspec": {
   "display_name": "Python 3",
   "language": "python",
   "name": "python3"
  },
  "language_info": {
   "codemirror_mode": {
    "name": "ipython",
    "version": 3
   },
   "file_extension": ".py",
   "mimetype": "text/x-python",
   "name": "python",
   "nbconvert_exporter": "python",
   "pygments_lexer": "ipython3",
   "version": "3.13.3"
  }
 },
 "nbformat": 4,
 "nbformat_minor": 5
}
